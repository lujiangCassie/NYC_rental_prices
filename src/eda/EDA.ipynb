{
 "cells": [
  {
   "cell_type": "code",
   "execution_count": 1,
   "id": "f14bced1-1724-482a-9253-d1f3fd61f389",
   "metadata": {},
   "outputs": [],
   "source": [
    "import wandb\n",
    "import pandas as pd"
   ]
  },
  {
   "cell_type": "code",
   "execution_count": 2,
   "id": "f2714315-0132-4d62-a578-e283a967aedf",
   "metadata": {},
   "outputs": [
    {
     "name": "stderr",
     "output_type": "stream",
     "text": [
      "\u001b[34m\u001b[1mwandb\u001b[0m: Currently logged in as: \u001b[33mlu-jiang201845\u001b[0m. Use \u001b[1m`wandb login --relogin`\u001b[0m to force relogin\n"
     ]
    },
    {
     "data": {
      "text/html": [
       "Tracking run with wandb version 0.16.0"
      ],
      "text/plain": [
       "<IPython.core.display.HTML object>"
      ]
     },
     "metadata": {},
     "output_type": "display_data"
    },
    {
     "data": {
      "text/html": [
       "Run data is saved locally in <code>C:\\Users\\cassi\\Documents\\udacity\\ML_DevOps\\build-ml-pipeline-for-short-term-rental-prices-main\\src\\eda\\wandb\\run-20231130_141232-mvyfw5s7</code>"
      ],
      "text/plain": [
       "<IPython.core.display.HTML object>"
      ]
     },
     "metadata": {},
     "output_type": "display_data"
    },
    {
     "data": {
      "text/html": [
       "Syncing run <strong><a href='https://wandb.ai/lu-jiang201845/nyc_airbnb/runs/mvyfw5s7' target=\"_blank\">legendary-valley-2</a></strong> to <a href='https://wandb.ai/lu-jiang201845/nyc_airbnb' target=\"_blank\">Weights & Biases</a> (<a href='https://wandb.me/run' target=\"_blank\">docs</a>)<br/>"
      ],
      "text/plain": [
       "<IPython.core.display.HTML object>"
      ]
     },
     "metadata": {},
     "output_type": "display_data"
    },
    {
     "data": {
      "text/html": [
       " View project at <a href='https://wandb.ai/lu-jiang201845/nyc_airbnb' target=\"_blank\">https://wandb.ai/lu-jiang201845/nyc_airbnb</a>"
      ],
      "text/plain": [
       "<IPython.core.display.HTML object>"
      ]
     },
     "metadata": {},
     "output_type": "display_data"
    },
    {
     "data": {
      "text/html": [
       " View run at <a href='https://wandb.ai/lu-jiang201845/nyc_airbnb/runs/mvyfw5s7' target=\"_blank\">https://wandb.ai/lu-jiang201845/nyc_airbnb/runs/mvyfw5s7</a>"
      ],
      "text/plain": [
       "<IPython.core.display.HTML object>"
      ]
     },
     "metadata": {},
     "output_type": "display_data"
    }
   ],
   "source": [
    "run = wandb.init(project='nyc_airbnb', group='eda', save_code=True)\n",
    "local_path = wandb.use_artifact('sample.csv:latest').file()\n",
    "df = pd.read_csv(local_path)"
   ]
  },
  {
   "cell_type": "code",
   "execution_count": 4,
   "id": "94d5bf87-65e2-4888-9941-bed2f54b05ad",
   "metadata": {},
   "outputs": [
    {
     "name": "stdout",
     "output_type": "stream",
     "text": [
      "Collecting pandas_profiling\n",
      "  Downloading pandas_profiling-3.6.6-py2.py3-none-any.whl (324 kB)\n",
      "     ---------------------------------------- 0.0/324.4 kB ? eta -:--:--\n",
      "     ----------------------- -------------- 204.8/324.4 kB 6.1 MB/s eta 0:00:01\n",
      "     -------------------------------------- 324.4/324.4 kB 4.0 MB/s eta 0:00:00\n",
      "Collecting ydata-profiling (from pandas_profiling)\n",
      "  Obtaining dependency information for ydata-profiling from https://files.pythonhosted.org/packages/0a/cb/d946b8ab543dfcd6cdf66eb3dfe1d6b39dfdede57b3c8e9115822b3c7bee/ydata_profiling-4.6.2-py2.py3-none-any.whl.metadata\n",
      "  Downloading ydata_profiling-4.6.2-py2.py3-none-any.whl.metadata (20 kB)\n",
      "Requirement already satisfied: scipy<1.12,>=1.4.1 in c:\\users\\cassi\\appdata\\local\\programs\\python\\python39\\lib\\site-packages (from ydata-profiling->pandas_profiling) (1.9.1)\n",
      "Requirement already satisfied: pandas!=1.4.0,<2.1,>1.1 in c:\\users\\cassi\\appdata\\local\\programs\\python\\python39\\lib\\site-packages (from ydata-profiling->pandas_profiling) (1.5.0)\n",
      "Requirement already satisfied: matplotlib<=3.7.3,>=3.2 in c:\\users\\cassi\\appdata\\local\\programs\\python\\python39\\lib\\site-packages (from ydata-profiling->pandas_profiling) (3.6.0)\n",
      "Collecting pydantic>=2 (from ydata-profiling->pandas_profiling)\n",
      "  Obtaining dependency information for pydantic>=2 from https://files.pythonhosted.org/packages/0a/2b/64066de1c4cf3d4ed623beeb3bbf3f8d0cc26661f1e7d180ec5eb66b75a5/pydantic-2.5.2-py3-none-any.whl.metadata\n",
      "  Downloading pydantic-2.5.2-py3-none-any.whl.metadata (65 kB)\n",
      "     ---------------------------------------- 0.0/65.2 kB ? eta -:--:--\n",
      "     ---------------------------------------- 65.2/65.2 kB ? eta 0:00:00\n",
      "Requirement already satisfied: PyYAML<6.1,>=5.0.0 in c:\\users\\cassi\\appdata\\local\\programs\\python\\python39\\lib\\site-packages (from ydata-profiling->pandas_profiling) (6.0)\n",
      "Requirement already satisfied: jinja2<3.2,>=2.11.1 in c:\\users\\cassi\\appdata\\local\\programs\\python\\python39\\lib\\site-packages (from ydata-profiling->pandas_profiling) (3.1.2)\n",
      "Collecting visions[type_image_path]==0.7.5 (from ydata-profiling->pandas_profiling)\n",
      "  Downloading visions-0.7.5-py3-none-any.whl (102 kB)\n",
      "     ---------------------------------------- 0.0/102.7 kB ? eta -:--:--\n",
      "     -------------------------------------- 102.7/102.7 kB 5.8 MB/s eta 0:00:00\n",
      "Requirement already satisfied: numpy<1.26,>=1.16.0 in c:\\users\\cassi\\appdata\\local\\programs\\python\\python39\\lib\\site-packages (from ydata-profiling->pandas_profiling) (1.23.3)\n",
      "Collecting htmlmin==0.1.12 (from ydata-profiling->pandas_profiling)\n",
      "  Downloading htmlmin-0.1.12.tar.gz (19 kB)\n",
      "  Installing build dependencies: started\n",
      "  Installing build dependencies: finished with status 'done'\n",
      "  Getting requirements to build wheel: started\n",
      "  Getting requirements to build wheel: finished with status 'done'\n",
      "  Preparing metadata (pyproject.toml): started\n",
      "  Preparing metadata (pyproject.toml): finished with status 'done'\n",
      "Collecting phik<0.13,>=0.11.1 (from ydata-profiling->pandas_profiling)\n",
      "  Downloading phik-0.12.3-cp39-cp39-win_amd64.whl (663 kB)\n",
      "     ---------------------------------------- 0.0/663.5 kB ? eta -:--:--\n",
      "     ---------------------- --------------- 389.1/663.5 kB 8.1 MB/s eta 0:00:01\n",
      "     -------------------------------------- 663.5/663.5 kB 8.4 MB/s eta 0:00:00\n",
      "Requirement already satisfied: requests<3,>=2.24.0 in c:\\users\\cassi\\appdata\\local\\programs\\python\\python39\\lib\\site-packages (from ydata-profiling->pandas_profiling) (2.31.0)\n",
      "Requirement already satisfied: tqdm<5,>=4.48.2 in c:\\users\\cassi\\appdata\\local\\programs\\python\\python39\\lib\\site-packages (from ydata-profiling->pandas_profiling) (4.64.1)\n",
      "Requirement already satisfied: seaborn<0.13,>=0.10.1 in c:\\users\\cassi\\appdata\\local\\programs\\python\\python39\\lib\\site-packages (from ydata-profiling->pandas_profiling) (0.12.2)\n",
      "Collecting multimethod<2,>=1.4 (from ydata-profiling->pandas_profiling)\n",
      "  Obtaining dependency information for multimethod<2,>=1.4 from https://files.pythonhosted.org/packages/7f/bd/750245e47e7f307d9f94d4fa84727f4ed9956005dfa671d58be1d531a0f6/multimethod-1.10-py3-none-any.whl.metadata\n",
      "  Downloading multimethod-1.10-py3-none-any.whl.metadata (8.2 kB)\n",
      "Requirement already satisfied: statsmodels<1,>=0.13.2 in c:\\users\\cassi\\appdata\\local\\programs\\python\\python39\\lib\\site-packages (from ydata-profiling->pandas_profiling) (0.14.0)\n",
      "Collecting typeguard<5,>=4.1.2 (from ydata-profiling->pandas_profiling)\n",
      "  Obtaining dependency information for typeguard<5,>=4.1.2 from https://files.pythonhosted.org/packages/18/01/5fc45558268ced46d86292763477996a3cdd505567cd590a688e8cdc386e/typeguard-4.1.5-py3-none-any.whl.metadata\n",
      "  Downloading typeguard-4.1.5-py3-none-any.whl.metadata (3.7 kB)\n",
      "Collecting imagehash==4.3.1 (from ydata-profiling->pandas_profiling)\n",
      "  Downloading ImageHash-4.3.1-py2.py3-none-any.whl (296 kB)\n",
      "     ---------------------------------------- 0.0/296.5 kB ? eta -:--:--\n",
      "     -------------------------------------- 296.5/296.5 kB 9.2 MB/s eta 0:00:00\n",
      "Collecting wordcloud>=1.9.1 (from ydata-profiling->pandas_profiling)\n",
      "  Obtaining dependency information for wordcloud>=1.9.1 from https://files.pythonhosted.org/packages/ca/4a/49ceaa60945f2e0077c25117dd99c7e6efdea9cc970787d0637a36e39014/wordcloud-1.9.2-cp39-cp39-win_amd64.whl.metadata\n",
      "  Downloading wordcloud-1.9.2-cp39-cp39-win_amd64.whl.metadata (3.4 kB)\n",
      "Collecting dacite>=1.8 (from ydata-profiling->pandas_profiling)\n",
      "  Obtaining dependency information for dacite>=1.8 from https://files.pythonhosted.org/packages/21/0f/cf0943f4f55f0fbc7c6bd60caf1343061dff818b02af5a0d444e473bb78d/dacite-1.8.1-py3-none-any.whl.metadata\n",
      "  Downloading dacite-1.8.1-py3-none-any.whl.metadata (15 kB)\n",
      "Collecting numba<0.59.0,>=0.56.0 (from ydata-profiling->pandas_profiling)\n",
      "  Obtaining dependency information for numba<0.59.0,>=0.56.0 from https://files.pythonhosted.org/packages/f8/14/546925a397d7638858a890a01d82cc6de147fca294eccf93ee11b524ca3c/numba-0.58.1-cp39-cp39-win_amd64.whl.metadata\n",
      "  Downloading numba-0.58.1-cp39-cp39-win_amd64.whl.metadata (2.8 kB)\n",
      "Collecting PyWavelets (from imagehash==4.3.1->ydata-profiling->pandas_profiling)\n",
      "  Obtaining dependency information for PyWavelets from https://files.pythonhosted.org/packages/12/12/ec2f306196477b1a4d770d681a12f73acf62ae23ac1ea9441c867fe186f1/pywavelets-1.5.0-cp39-cp39-win_amd64.whl.metadata\n",
      "  Downloading pywavelets-1.5.0-cp39-cp39-win_amd64.whl.metadata (9.0 kB)\n",
      "Requirement already satisfied: pillow in c:\\users\\cassi\\appdata\\local\\programs\\python\\python39\\lib\\site-packages (from imagehash==4.3.1->ydata-profiling->pandas_profiling) (9.2.0)\n",
      "Requirement already satisfied: attrs>=19.3.0 in c:\\users\\cassi\\appdata\\local\\programs\\python\\python39\\lib\\site-packages (from visions[type_image_path]==0.7.5->ydata-profiling->pandas_profiling) (23.1.0)\n",
      "Collecting networkx>=2.4 (from visions[type_image_path]==0.7.5->ydata-profiling->pandas_profiling)\n",
      "  Obtaining dependency information for networkx>=2.4 from https://files.pythonhosted.org/packages/d5/f0/8fbc882ca80cf077f1b246c0e3c3465f7f415439bdea6b899f6b19f61f70/networkx-3.2.1-py3-none-any.whl.metadata\n",
      "  Downloading networkx-3.2.1-py3-none-any.whl.metadata (5.2 kB)\n",
      "Collecting tangled-up-in-unicode>=0.0.4 (from visions[type_image_path]==0.7.5->ydata-profiling->pandas_profiling)\n",
      "  Downloading tangled_up_in_unicode-0.2.0-py3-none-any.whl (4.7 MB)\n",
      "     ---------------------------------------- 0.0/4.7 MB ? eta -:--:--\n",
      "     ------- -------------------------------- 0.9/4.7 MB 18.5 MB/s eta 0:00:01\n",
      "     ------------ --------------------------- 1.5/4.7 MB 13.7 MB/s eta 0:00:01\n",
      "     ------------------ --------------------- 2.2/4.7 MB 12.5 MB/s eta 0:00:01\n",
      "     --------------------- ------------------ 2.5/4.7 MB 10.7 MB/s eta 0:00:01\n",
      "     -------------------------- ------------- 3.1/4.7 MB 10.4 MB/s eta 0:00:01\n",
      "     --------------------------------- ------ 4.0/4.7 MB 11.0 MB/s eta 0:00:01\n",
      "     -------------------------------------- - 4.6/4.7 MB 10.8 MB/s eta 0:00:01\n",
      "     ---------------------------------------- 4.7/4.7 MB 10.4 MB/s eta 0:00:00\n",
      "Requirement already satisfied: MarkupSafe>=2.0 in c:\\users\\cassi\\appdata\\local\\programs\\python\\python39\\lib\\site-packages (from jinja2<3.2,>=2.11.1->ydata-profiling->pandas_profiling) (2.1.3)\n",
      "Requirement already satisfied: contourpy>=1.0.1 in c:\\users\\cassi\\appdata\\local\\programs\\python\\python39\\lib\\site-packages (from matplotlib<=3.7.3,>=3.2->ydata-profiling->pandas_profiling) (1.0.5)\n",
      "Requirement already satisfied: cycler>=0.10 in c:\\users\\cassi\\appdata\\local\\programs\\python\\python39\\lib\\site-packages (from matplotlib<=3.7.3,>=3.2->ydata-profiling->pandas_profiling) (0.11.0)\n",
      "Requirement already satisfied: fonttools>=4.22.0 in c:\\users\\cassi\\appdata\\local\\programs\\python\\python39\\lib\\site-packages (from matplotlib<=3.7.3,>=3.2->ydata-profiling->pandas_profiling) (4.37.3)\n",
      "Requirement already satisfied: kiwisolver>=1.0.1 in c:\\users\\cassi\\appdata\\local\\programs\\python\\python39\\lib\\site-packages (from matplotlib<=3.7.3,>=3.2->ydata-profiling->pandas_profiling) (1.4.4)\n",
      "Requirement already satisfied: packaging>=20.0 in c:\\users\\cassi\\appdata\\local\\programs\\python\\python39\\lib\\site-packages (from matplotlib<=3.7.3,>=3.2->ydata-profiling->pandas_profiling) (21.3)\n",
      "Requirement already satisfied: pyparsing>=2.2.1 in c:\\users\\cassi\\appdata\\local\\programs\\python\\python39\\lib\\site-packages (from matplotlib<=3.7.3,>=3.2->ydata-profiling->pandas_profiling) (3.0.9)\n",
      "Requirement already satisfied: python-dateutil>=2.7 in c:\\users\\cassi\\appdata\\local\\programs\\python\\python39\\lib\\site-packages (from matplotlib<=3.7.3,>=3.2->ydata-profiling->pandas_profiling) (2.8.2)\n",
      "Collecting llvmlite<0.42,>=0.41.0dev0 (from numba<0.59.0,>=0.56.0->ydata-profiling->pandas_profiling)\n",
      "  Obtaining dependency information for llvmlite<0.42,>=0.41.0dev0 from https://files.pythonhosted.org/packages/88/99/aa829162a871f0f91dba9a0344726449cafbff4e9e55d7a714051cbb6215/llvmlite-0.41.1-cp39-cp39-win_amd64.whl.metadata\n",
      "  Downloading llvmlite-0.41.1-cp39-cp39-win_amd64.whl.metadata (4.9 kB)\n",
      "Requirement already satisfied: pytz>=2020.1 in c:\\users\\cassi\\appdata\\local\\programs\\python\\python39\\lib\\site-packages (from pandas!=1.4.0,<2.1,>1.1->ydata-profiling->pandas_profiling) (2022.7)\n",
      "Requirement already satisfied: joblib>=0.14.1 in c:\\users\\cassi\\appdata\\local\\programs\\python\\python39\\lib\\site-packages (from phik<0.13,>=0.11.1->ydata-profiling->pandas_profiling) (1.2.0)\n",
      "Collecting annotated-types>=0.4.0 (from pydantic>=2->ydata-profiling->pandas_profiling)\n",
      "  Obtaining dependency information for annotated-types>=0.4.0 from https://files.pythonhosted.org/packages/28/78/d31230046e58c207284c6b2c4e8d96e6d3cb4e52354721b944d3e1ee4aa5/annotated_types-0.6.0-py3-none-any.whl.metadata\n",
      "  Downloading annotated_types-0.6.0-py3-none-any.whl.metadata (12 kB)\n",
      "Collecting pydantic-core==2.14.5 (from pydantic>=2->ydata-profiling->pandas_profiling)\n",
      "  Obtaining dependency information for pydantic-core==2.14.5 from https://files.pythonhosted.org/packages/41/64/43de643a6d2d157a8ac508a7c2a6a9746c941a659a6c64e00ebd13d5db4f/pydantic_core-2.14.5-cp39-none-win_amd64.whl.metadata\n",
      "  Downloading pydantic_core-2.14.5-cp39-none-win_amd64.whl.metadata (6.6 kB)\n",
      "Collecting typing-extensions>=4.6.1 (from pydantic>=2->ydata-profiling->pandas_profiling)Note: you may need to restart the kernel to use updated packages.\n",
      "\n",
      "  Obtaining dependency information for typing-extensions>=4.6.1 from https://files.pythonhosted.org/packages/24/21/7d397a4b7934ff4028987914ac1044d3b7d52712f30e2ac7a2ae5bc86dd0/typing_extensions-4.8.0-py3-none-any.whl.metadata\n",
      "  Downloading typing_extensions-4.8.0-py3-none-any.whl.metadata (3.0 kB)\n",
      "Requirement already satisfied: charset-normalizer<4,>=2 in c:\\users\\cassi\\appdata\\local\\programs\\python\\python39\\lib\\site-packages (from requests<3,>=2.24.0->ydata-profiling->pandas_profiling) (2.1.1)\n",
      "Requirement already satisfied: idna<4,>=2.5 in c:\\users\\cassi\\appdata\\local\\programs\\python\\python39\\lib\\site-packages (from requests<3,>=2.24.0->ydata-profiling->pandas_profiling) (2.9)\n",
      "Requirement already satisfied: urllib3<3,>=1.21.1 in c:\\users\\cassi\\appdata\\local\\programs\\python\\python39\\lib\\site-packages (from requests<3,>=2.24.0->ydata-profiling->pandas_profiling) (2.1.0)\n",
      "Requirement already satisfied: certifi>=2017.4.17 in c:\\users\\cassi\\appdata\\local\\programs\\python\\python39\\lib\\site-packages (from requests<3,>=2.24.0->ydata-profiling->pandas_profiling) (2020.4.5.1)\n",
      "Requirement already satisfied: patsy>=0.5.2 in c:\\users\\cassi\\appdata\\local\\programs\\python\\python39\\lib\\site-packages (from statsmodels<1,>=0.13.2->ydata-profiling->pandas_profiling) (0.5.3)\n",
      "Requirement already satisfied: colorama in c:\\users\\cassi\\appdata\\local\\programs\\python\\python39\\lib\\site-packages (from tqdm<5,>=4.48.2->ydata-profiling->pandas_profiling) (0.4.6)\n",
      "Requirement already satisfied: importlib-metadata>=3.6 in c:\\users\\cassi\\appdata\\local\\programs\\python\\python39\\lib\\site-packages (from typeguard<5,>=4.1.2->ydata-profiling->pandas_profiling) (6.4.1)\n",
      "Requirement already satisfied: zipp>=0.5 in c:\\users\\cassi\\appdata\\local\\programs\\python\\python39\\lib\\site-packages (from importlib-metadata>=3.6->typeguard<5,>=4.1.2->ydata-profiling->pandas_profiling) (3.15.0)\n",
      "Requirement already satisfied: six in c:\\users\\cassi\\appdata\\local\\programs\\python\\python39\\lib\\site-packages (from patsy>=0.5.2->statsmodels<1,>=0.13.2->ydata-profiling->pandas_profiling) (1.16.0)\n",
      "Downloading ydata_profiling-4.6.2-py2.py3-none-any.whl (357 kB)\n",
      "   ---------------------------------------- 0.0/357.5 kB ? eta -:--:--\n",
      "   --------------------------------------- 357.5/357.5 kB 11.2 MB/s eta 0:00:00\n",
      "Downloading dacite-1.8.1-py3-none-any.whl (14 kB)\n",
      "Downloading multimethod-1.10-py3-none-any.whl (9.9 kB)\n",
      "Using cached numba-0.58.1-cp39-cp39-win_amd64.whl (2.6 MB)\n",
      "Downloading pydantic-2.5.2-py3-none-any.whl (381 kB)\n",
      "   ---------------------------------------- 0.0/381.9 kB ? eta -:--:--\n",
      "   --------------------------------------  378.9/381.9 kB 24.6 MB/s eta 0:00:01\n",
      "   ---------------------------------------- 381.9/381.9 kB 4.0 MB/s eta 0:00:00\n",
      "Downloading pydantic_core-2.14.5-cp39-none-win_amd64.whl (1.9 MB)\n",
      "   ---------------------------------------- 0.0/1.9 MB ? eta -:--:--\n",
      "   ------------- -------------------------- 0.6/1.9 MB 13.5 MB/s eta 0:00:01\n",
      "   ----------------------- ---------------- 1.1/1.9 MB 11.9 MB/s eta 0:00:01\n",
      "   ----------------------------------- ---- 1.7/1.9 MB 10.7 MB/s eta 0:00:01\n",
      "   ---------------------------------------- 1.9/1.9 MB 10.9 MB/s eta 0:00:00\n",
      "Downloading typeguard-4.1.5-py3-none-any.whl (34 kB)\n",
      "Downloading wordcloud-1.9.2-cp39-cp39-win_amd64.whl (153 kB)\n",
      "   ---------------------------------------- 0.0/153.3 kB ? eta -:--:--\n",
      "   ---------------------------------------- 153.3/153.3 kB 9.5 MB/s eta 0:00:00\n",
      "Downloading annotated_types-0.6.0-py3-none-any.whl (12 kB)\n",
      "Using cached llvmlite-0.41.1-cp39-cp39-win_amd64.whl (28.1 MB)\n",
      "Downloading networkx-3.2.1-py3-none-any.whl (1.6 MB)\n",
      "   ---------------------------------------- 0.0/1.6 MB ? eta -:--:--\n",
      "   ------------------ --------------------- 0.8/1.6 MB 16.1 MB/s eta 0:00:01\n",
      "   ------------------------------- -------- 1.3/1.6 MB 11.8 MB/s eta 0:00:01\n",
      "   ---------------------------------------- 1.6/1.6 MB 9.5 MB/s eta 0:00:00\n",
      "Downloading typing_extensions-4.8.0-py3-none-any.whl (31 kB)\n",
      "Downloading pywavelets-1.5.0-cp39-cp39-win_amd64.whl (4.3 MB)\n",
      "   ---------------------------------------- 0.0/4.3 MB ? eta -:--:--\n",
      "   ----- ---------------------------------- 0.6/4.3 MB 19.2 MB/s eta 0:00:01\n",
      "   ------- -------------------------------- 0.8/4.3 MB 10.8 MB/s eta 0:00:01\n",
      "   ------------ --------------------------- 1.3/4.3 MB 9.1 MB/s eta 0:00:01\n",
      "   ----------------- ---------------------- 1.9/4.3 MB 11.0 MB/s eta 0:00:01\n",
      "   ----------------------- ---------------- 2.4/4.3 MB 11.1 MB/s eta 0:00:01\n",
      "   ---------------------------- ----------- 3.0/4.3 MB 10.7 MB/s eta 0:00:01\n",
      "   --------------------------------- ------ 3.5/4.3 MB 11.2 MB/s eta 0:00:01\n",
      "   ------------------------------------ --- 3.9/4.3 MB 10.3 MB/s eta 0:00:01\n",
      "   ---------------------------------------  4.2/4.3 MB 10.4 MB/s eta 0:00:01\n",
      "   ---------------------------------------- 4.3/4.3 MB 10.1 MB/s eta 0:00:00\n",
      "Building wheels for collected packages: htmlmin\n",
      "  Building wheel for htmlmin (pyproject.toml): started\n",
      "  Building wheel for htmlmin (pyproject.toml): finished with status 'done'\n",
      "  Created wheel for htmlmin: filename=htmlmin-0.1.12-py3-none-any.whl size=27091 sha256=7c9632eb1b63f4945f508ad2f69b4621695d2b056578b65bd61e8cb9b57a7387\n",
      "  Stored in directory: c:\\users\\cassi\\appdata\\local\\pip\\cache\\wheels\\1d\\05\\04\\c6d7d3b66539d9e659ac6dfe81e2d0fd4c1a8316cc5a403300\n",
      "Successfully built htmlmin\n",
      "Installing collected packages: htmlmin, typing-extensions, tangled-up-in-unicode, PyWavelets, networkx, multimethod, llvmlite, dacite, annotated-types, typeguard, pydantic-core, numba, imagehash, wordcloud, visions, pydantic, phik, ydata-profiling, pandas_profiling\n",
      "  Attempting uninstall: typing-extensions\n",
      "    Found existing installation: typing_extensions 4.5.0\n",
      "    Uninstalling typing_extensions-4.5.0:\n",
      "      Successfully uninstalled typing_extensions-4.5.0\n",
      "Successfully installed PyWavelets-1.5.0 annotated-types-0.6.0 dacite-1.8.1 htmlmin-0.1.12 imagehash-4.3.1 llvmlite-0.41.1 multimethod-1.10 networkx-3.2.1 numba-0.58.1 pandas_profiling-3.6.6 phik-0.12.3 pydantic-2.5.2 pydantic-core-2.14.5 tangled-up-in-unicode-0.2.0 typeguard-4.1.5 typing-extensions-4.8.0 visions-0.7.5 wordcloud-1.9.2 ydata-profiling-4.6.2\n"
     ]
    },
    {
     "name": "stderr",
     "output_type": "stream",
     "text": [
      "\n",
      "[notice] A new release of pip is available: 23.2.1 -> 23.3.1\n",
      "[notice] To update, run: c:\\users\\cassi\\appdata\\local\\programs\\python\\python39\\python.exe -m pip install --upgrade pip\n"
     ]
    }
   ],
   "source": [
    "%pip install pandas_profiling"
   ]
  },
  {
   "cell_type": "code",
   "execution_count": 5,
   "id": "b3cd3edf-d981-4c14-b557-4072880ed44a",
   "metadata": {
    "scrolled": true
   },
   "outputs": [
    {
     "ename": "ImportError",
     "evalue": "cannot import name 'TypeAliasType' from 'typing_extensions' (c:\\users\\cassi\\appdata\\local\\programs\\python\\python39\\lib\\site-packages\\typing_extensions.py)",
     "output_type": "error",
     "traceback": [
      "\u001b[1;31m---------------------------------------------------------------------------\u001b[0m",
      "\u001b[1;31mImportError\u001b[0m                               Traceback (most recent call last)",
      "Cell \u001b[1;32mIn[5], line 1\u001b[0m\n\u001b[1;32m----> 1\u001b[0m \u001b[38;5;28;01mimport\u001b[39;00m \u001b[38;5;21;01mpandas_profiling\u001b[39;00m\n\u001b[0;32m      2\u001b[0m profile \u001b[38;5;241m=\u001b[39m pandas_profiling\u001b[38;5;241m.\u001b[39mProfileReport(df)\n\u001b[0;32m      3\u001b[0m profile\u001b[38;5;241m.\u001b[39mto_widgets()\n",
      "File \u001b[1;32mc:\\users\\cassi\\appdata\\local\\programs\\python\\python39\\lib\\site-packages\\pandas_profiling\\__init__.py:8\u001b[0m\n\u001b[0;32m      1\u001b[0m \u001b[38;5;124;03m\"\"\"Main module of pandas-profiling.\u001b[39;00m\n\u001b[0;32m      2\u001b[0m \n\u001b[0;32m      3\u001b[0m \u001b[38;5;124;03m.. include:: ../../README.md\u001b[39;00m\n\u001b[0;32m      4\u001b[0m \u001b[38;5;124;03m\"\"\"\u001b[39;00m\n\u001b[0;32m      6\u001b[0m \u001b[38;5;28;01mfrom\u001b[39;00m \u001b[38;5;21;01mwarnings\u001b[39;00m \u001b[38;5;28;01mimport\u001b[39;00m warn\n\u001b[1;32m----> 8\u001b[0m \u001b[38;5;28;01mfrom\u001b[39;00m \u001b[38;5;21;01mpandas_profiling\u001b[39;00m\u001b[38;5;21;01m.\u001b[39;00m\u001b[38;5;21;01mcompare_reports\u001b[39;00m \u001b[38;5;28;01mimport\u001b[39;00m compare\n\u001b[0;32m      9\u001b[0m \u001b[38;5;28;01mfrom\u001b[39;00m \u001b[38;5;21;01mpandas_profiling\u001b[39;00m\u001b[38;5;21;01m.\u001b[39;00m\u001b[38;5;21;01mcontroller\u001b[39;00m \u001b[38;5;28;01mimport\u001b[39;00m pandas_decorator\n\u001b[0;32m     10\u001b[0m \u001b[38;5;28;01mfrom\u001b[39;00m \u001b[38;5;21;01mpandas_profiling\u001b[39;00m\u001b[38;5;21;01m.\u001b[39;00m\u001b[38;5;21;01mprofile_report\u001b[39;00m \u001b[38;5;28;01mimport\u001b[39;00m ProfileReport\n",
      "File \u001b[1;32mc:\\users\\cassi\\appdata\\local\\programs\\python\\python39\\lib\\site-packages\\pandas_profiling\\compare_reports.py:6\u001b[0m\n\u001b[0;32m      2\u001b[0m \u001b[38;5;28;01mfrom\u001b[39;00m \u001b[38;5;21;01mtyping\u001b[39;00m \u001b[38;5;28;01mimport\u001b[39;00m Any, List, Optional, Tuple, Union\n\u001b[0;32m      4\u001b[0m \u001b[38;5;28;01mimport\u001b[39;00m \u001b[38;5;21;01mpandas\u001b[39;00m \u001b[38;5;28;01mas\u001b[39;00m \u001b[38;5;21;01mpd\u001b[39;00m\n\u001b[1;32m----> 6\u001b[0m \u001b[38;5;28;01mfrom\u001b[39;00m \u001b[38;5;21;01mpandas_profiling\u001b[39;00m\u001b[38;5;21;01m.\u001b[39;00m\u001b[38;5;21;01mconfig\u001b[39;00m \u001b[38;5;28;01mimport\u001b[39;00m Correlation, Settings\n\u001b[0;32m      7\u001b[0m \u001b[38;5;28;01mfrom\u001b[39;00m \u001b[38;5;21;01mpandas_profiling\u001b[39;00m\u001b[38;5;21;01m.\u001b[39;00m\u001b[38;5;21;01mmodel\u001b[39;00m\u001b[38;5;21;01m.\u001b[39;00m\u001b[38;5;21;01malerts\u001b[39;00m \u001b[38;5;28;01mimport\u001b[39;00m Alert\n\u001b[0;32m      8\u001b[0m \u001b[38;5;28;01mfrom\u001b[39;00m \u001b[38;5;21;01mpandas_profiling\u001b[39;00m\u001b[38;5;21;01m.\u001b[39;00m\u001b[38;5;21;01mprofile_report\u001b[39;00m \u001b[38;5;28;01mimport\u001b[39;00m ProfileReport\n",
      "File \u001b[1;32mc:\\users\\cassi\\appdata\\local\\programs\\python\\python39\\lib\\site-packages\\pandas_profiling\\config.py:7\u001b[0m\n\u001b[0;32m      4\u001b[0m \u001b[38;5;28;01mfrom\u001b[39;00m \u001b[38;5;21;01mtyping\u001b[39;00m \u001b[38;5;28;01mimport\u001b[39;00m Any, Dict, List, Optional, Tuple, Union\n\u001b[0;32m      6\u001b[0m \u001b[38;5;28;01mimport\u001b[39;00m \u001b[38;5;21;01myaml\u001b[39;00m\n\u001b[1;32m----> 7\u001b[0m \u001b[38;5;28;01mfrom\u001b[39;00m \u001b[38;5;21;01mpydantic\u001b[39;00m \u001b[38;5;28;01mimport\u001b[39;00m BaseModel, BaseSettings, Field, PrivateAttr\n\u001b[0;32m     10\u001b[0m \u001b[38;5;28;01mdef\u001b[39;00m \u001b[38;5;21m_merge_dictionaries\u001b[39m(dict1: \u001b[38;5;28mdict\u001b[39m, dict2: \u001b[38;5;28mdict\u001b[39m) \u001b[38;5;241m-\u001b[39m\u001b[38;5;241m>\u001b[39m \u001b[38;5;28mdict\u001b[39m:\n\u001b[0;32m     11\u001b[0m \u001b[38;5;250m    \u001b[39m\u001b[38;5;124;03m\"\"\"\u001b[39;00m\n\u001b[0;32m     12\u001b[0m \u001b[38;5;124;03m    Recursive merge dictionaries.\u001b[39;00m\n\u001b[0;32m     13\u001b[0m \n\u001b[1;32m   (...)\u001b[0m\n\u001b[0;32m     16\u001b[0m \u001b[38;5;124;03m    :return: Merged dictionary\u001b[39;00m\n\u001b[0;32m     17\u001b[0m \u001b[38;5;124;03m    \"\"\"\u001b[39;00m\n",
      "File \u001b[1;32mc:\\users\\cassi\\appdata\\local\\programs\\python\\python39\\lib\\site-packages\\pydantic\\__init__.py:372\u001b[0m, in \u001b[0;36m__getattr__\u001b[1;34m(attr_name)\u001b[0m\n\u001b[0;32m    370\u001b[0m     \u001b[38;5;28;01mreturn\u001b[39;00m import_module(\u001b[38;5;124mf\u001b[39m\u001b[38;5;124m'\u001b[39m\u001b[38;5;124m.\u001b[39m\u001b[38;5;132;01m{\u001b[39;00mattr_name\u001b[38;5;132;01m}\u001b[39;00m\u001b[38;5;124m'\u001b[39m, package\u001b[38;5;241m=\u001b[39mpackage)\n\u001b[0;32m    371\u001b[0m \u001b[38;5;28;01melse\u001b[39;00m:\n\u001b[1;32m--> 372\u001b[0m     module \u001b[38;5;241m=\u001b[39m \u001b[43mimport_module\u001b[49m\u001b[43m(\u001b[49m\u001b[43mmodule_name\u001b[49m\u001b[43m,\u001b[49m\u001b[43m \u001b[49m\u001b[43mpackage\u001b[49m\u001b[38;5;241;43m=\u001b[39;49m\u001b[43mpackage\u001b[49m\u001b[43m)\u001b[49m\n\u001b[0;32m    373\u001b[0m     \u001b[38;5;28;01mreturn\u001b[39;00m \u001b[38;5;28mgetattr\u001b[39m(module, attr_name)\n",
      "File \u001b[1;32mc:\\users\\cassi\\appdata\\local\\programs\\python\\python39\\lib\\importlib\\__init__.py:127\u001b[0m, in \u001b[0;36mimport_module\u001b[1;34m(name, package)\u001b[0m\n\u001b[0;32m    125\u001b[0m             \u001b[38;5;28;01mbreak\u001b[39;00m\n\u001b[0;32m    126\u001b[0m         level \u001b[38;5;241m+\u001b[39m\u001b[38;5;241m=\u001b[39m \u001b[38;5;241m1\u001b[39m\n\u001b[1;32m--> 127\u001b[0m \u001b[38;5;28;01mreturn\u001b[39;00m \u001b[43m_bootstrap\u001b[49m\u001b[38;5;241;43m.\u001b[39;49m\u001b[43m_gcd_import\u001b[49m\u001b[43m(\u001b[49m\u001b[43mname\u001b[49m\u001b[43m[\u001b[49m\u001b[43mlevel\u001b[49m\u001b[43m:\u001b[49m\u001b[43m]\u001b[49m\u001b[43m,\u001b[49m\u001b[43m \u001b[49m\u001b[43mpackage\u001b[49m\u001b[43m,\u001b[49m\u001b[43m \u001b[49m\u001b[43mlevel\u001b[49m\u001b[43m)\u001b[49m\n",
      "File \u001b[1;32mc:\\users\\cassi\\appdata\\local\\programs\\python\\python39\\lib\\site-packages\\pydantic\\main.py:15\u001b[0m\n\u001b[0;32m     12\u001b[0m \u001b[38;5;28;01mimport\u001b[39;00m \u001b[38;5;21;01mtyping_extensions\u001b[39;00m\n\u001b[0;32m     13\u001b[0m \u001b[38;5;28;01mfrom\u001b[39;00m \u001b[38;5;21;01mpydantic_core\u001b[39;00m \u001b[38;5;28;01mimport\u001b[39;00m PydanticUndefined\n\u001b[1;32m---> 15\u001b[0m \u001b[38;5;28;01mfrom\u001b[39;00m \u001b[38;5;21;01m.\u001b[39;00m\u001b[38;5;21;01m_internal\u001b[39;00m \u001b[38;5;28;01mimport\u001b[39;00m (\n\u001b[0;32m     16\u001b[0m     _config,\n\u001b[0;32m     17\u001b[0m     _decorators,\n\u001b[0;32m     18\u001b[0m     _fields,\n\u001b[0;32m     19\u001b[0m     _forward_ref,\n\u001b[0;32m     20\u001b[0m     _generics,\n\u001b[0;32m     21\u001b[0m     _mock_val_ser,\n\u001b[0;32m     22\u001b[0m     _model_construction,\n\u001b[0;32m     23\u001b[0m     _repr,\n\u001b[0;32m     24\u001b[0m     _typing_extra,\n\u001b[0;32m     25\u001b[0m     _utils,\n\u001b[0;32m     26\u001b[0m )\n\u001b[0;32m     27\u001b[0m \u001b[38;5;28;01mfrom\u001b[39;00m \u001b[38;5;21;01m.\u001b[39;00m\u001b[38;5;21;01m_migration\u001b[39;00m \u001b[38;5;28;01mimport\u001b[39;00m getattr_migration\n\u001b[0;32m     28\u001b[0m \u001b[38;5;28;01mfrom\u001b[39;00m \u001b[38;5;21;01m.\u001b[39;00m\u001b[38;5;21;01mannotated_handlers\u001b[39;00m \u001b[38;5;28;01mimport\u001b[39;00m GetCoreSchemaHandler, GetJsonSchemaHandler\n",
      "File \u001b[1;32mc:\\users\\cassi\\appdata\\local\\programs\\python\\python39\\lib\\site-packages\\pydantic\\_internal\\_decorators.py:15\u001b[0m\n\u001b[0;32m     12\u001b[0m \u001b[38;5;28;01mfrom\u001b[39;00m \u001b[38;5;21;01mtyping_extensions\u001b[39;00m \u001b[38;5;28;01mimport\u001b[39;00m Literal, TypeAlias, is_typeddict\n\u001b[0;32m     14\u001b[0m \u001b[38;5;28;01mfrom\u001b[39;00m \u001b[38;5;21;01m.\u001b[39;00m\u001b[38;5;21;01m.\u001b[39;00m\u001b[38;5;21;01merrors\u001b[39;00m \u001b[38;5;28;01mimport\u001b[39;00m PydanticUserError\n\u001b[1;32m---> 15\u001b[0m \u001b[38;5;28;01mfrom\u001b[39;00m \u001b[38;5;21;01m.\u001b[39;00m\u001b[38;5;21;01m_core_utils\u001b[39;00m \u001b[38;5;28;01mimport\u001b[39;00m get_type_ref\n\u001b[0;32m     16\u001b[0m \u001b[38;5;28;01mfrom\u001b[39;00m \u001b[38;5;21;01m.\u001b[39;00m\u001b[38;5;21;01m_internal_dataclass\u001b[39;00m \u001b[38;5;28;01mimport\u001b[39;00m slots_true\n\u001b[0;32m     17\u001b[0m \u001b[38;5;28;01mfrom\u001b[39;00m \u001b[38;5;21;01m.\u001b[39;00m\u001b[38;5;21;01m_typing_extra\u001b[39;00m \u001b[38;5;28;01mimport\u001b[39;00m get_function_type_hints\n",
      "File \u001b[1;32mc:\\users\\cassi\\appdata\\local\\programs\\python\\python39\\lib\\site-packages\\pydantic\\_internal\\_core_utils.py:16\u001b[0m\n\u001b[0;32m     14\u001b[0m \u001b[38;5;28;01mfrom\u001b[39;00m \u001b[38;5;21;01mpydantic_core\u001b[39;00m \u001b[38;5;28;01mimport\u001b[39;00m CoreSchema, core_schema\n\u001b[0;32m     15\u001b[0m \u001b[38;5;28;01mfrom\u001b[39;00m \u001b[38;5;21;01mpydantic_core\u001b[39;00m \u001b[38;5;28;01mimport\u001b[39;00m validate_core_schema \u001b[38;5;28;01mas\u001b[39;00m _validate_core_schema\n\u001b[1;32m---> 16\u001b[0m \u001b[38;5;28;01mfrom\u001b[39;00m \u001b[38;5;21;01mtyping_extensions\u001b[39;00m \u001b[38;5;28;01mimport\u001b[39;00m TypeAliasType, TypeGuard, get_args, get_origin\n\u001b[0;32m     18\u001b[0m \u001b[38;5;28;01mfrom\u001b[39;00m \u001b[38;5;21;01m.\u001b[39;00m \u001b[38;5;28;01mimport\u001b[39;00m _repr\n\u001b[0;32m     19\u001b[0m \u001b[38;5;28;01mfrom\u001b[39;00m \u001b[38;5;21;01m.\u001b[39;00m\u001b[38;5;21;01m_typing_extra\u001b[39;00m \u001b[38;5;28;01mimport\u001b[39;00m is_generic_alias\n",
      "\u001b[1;31mImportError\u001b[0m: cannot import name 'TypeAliasType' from 'typing_extensions' (c:\\users\\cassi\\appdata\\local\\programs\\python\\python39\\lib\\site-packages\\typing_extensions.py)"
     ]
    }
   ],
   "source": [
    "import pandas_profiling\n",
    "profile = pandas_profiling.ProfileReport(df)\n",
    "profile.to_widgets()"
   ]
  },
  {
   "cell_type": "code",
   "execution_count": 6,
   "id": "e8331140-7365-48ad-8a58-6d9f6aece7d4",
   "metadata": {},
   "outputs": [
    {
     "data": {
      "text/html": [
       "<div>\n",
       "<style scoped>\n",
       "    .dataframe tbody tr th:only-of-type {\n",
       "        vertical-align: middle;\n",
       "    }\n",
       "\n",
       "    .dataframe tbody tr th {\n",
       "        vertical-align: top;\n",
       "    }\n",
       "\n",
       "    .dataframe thead th {\n",
       "        text-align: right;\n",
       "    }\n",
       "</style>\n",
       "<table border=\"1\" class=\"dataframe\">\n",
       "  <thead>\n",
       "    <tr style=\"text-align: right;\">\n",
       "      <th></th>\n",
       "      <th>id</th>\n",
       "      <th>name</th>\n",
       "      <th>host_id</th>\n",
       "      <th>host_name</th>\n",
       "      <th>neighbourhood_group</th>\n",
       "      <th>neighbourhood</th>\n",
       "      <th>latitude</th>\n",
       "      <th>longitude</th>\n",
       "      <th>room_type</th>\n",
       "      <th>price</th>\n",
       "      <th>minimum_nights</th>\n",
       "      <th>number_of_reviews</th>\n",
       "      <th>last_review</th>\n",
       "      <th>reviews_per_month</th>\n",
       "      <th>calculated_host_listings_count</th>\n",
       "      <th>availability_365</th>\n",
       "    </tr>\n",
       "  </thead>\n",
       "  <tbody>\n",
       "    <tr>\n",
       "      <th>0</th>\n",
       "      <td>9138664</td>\n",
       "      <td>Private Lg Room 15 min to Manhattan</td>\n",
       "      <td>47594947</td>\n",
       "      <td>Iris</td>\n",
       "      <td>Queens</td>\n",
       "      <td>Sunnyside</td>\n",
       "      <td>40.74271</td>\n",
       "      <td>-73.92493</td>\n",
       "      <td>Private room</td>\n",
       "      <td>74</td>\n",
       "      <td>2</td>\n",
       "      <td>6</td>\n",
       "      <td>2019-05-26</td>\n",
       "      <td>0.13</td>\n",
       "      <td>1</td>\n",
       "      <td>5</td>\n",
       "    </tr>\n",
       "    <tr>\n",
       "      <th>1</th>\n",
       "      <td>31444015</td>\n",
       "      <td>TIME SQUARE CHARMING ONE BED IN HELL'S KITCHEN...</td>\n",
       "      <td>8523790</td>\n",
       "      <td>Johlex</td>\n",
       "      <td>Manhattan</td>\n",
       "      <td>Hell's Kitchen</td>\n",
       "      <td>40.76682</td>\n",
       "      <td>-73.98878</td>\n",
       "      <td>Entire home/apt</td>\n",
       "      <td>170</td>\n",
       "      <td>3</td>\n",
       "      <td>0</td>\n",
       "      <td>NaN</td>\n",
       "      <td>NaN</td>\n",
       "      <td>1</td>\n",
       "      <td>188</td>\n",
       "    </tr>\n",
       "    <tr>\n",
       "      <th>2</th>\n",
       "      <td>8741020</td>\n",
       "      <td>Voted #1 Location Quintessential 1BR W Village...</td>\n",
       "      <td>45854238</td>\n",
       "      <td>John</td>\n",
       "      <td>Manhattan</td>\n",
       "      <td>West Village</td>\n",
       "      <td>40.73631</td>\n",
       "      <td>-74.00611</td>\n",
       "      <td>Entire home/apt</td>\n",
       "      <td>245</td>\n",
       "      <td>3</td>\n",
       "      <td>51</td>\n",
       "      <td>2018-09-19</td>\n",
       "      <td>1.12</td>\n",
       "      <td>1</td>\n",
       "      <td>0</td>\n",
       "    </tr>\n",
       "    <tr>\n",
       "      <th>3</th>\n",
       "      <td>34602077</td>\n",
       "      <td>Spacious 1 bedroom apartment 15min from Manhattan</td>\n",
       "      <td>261055465</td>\n",
       "      <td>Regan</td>\n",
       "      <td>Queens</td>\n",
       "      <td>Astoria</td>\n",
       "      <td>40.76424</td>\n",
       "      <td>-73.92351</td>\n",
       "      <td>Entire home/apt</td>\n",
       "      <td>125</td>\n",
       "      <td>3</td>\n",
       "      <td>1</td>\n",
       "      <td>2019-05-24</td>\n",
       "      <td>0.65</td>\n",
       "      <td>1</td>\n",
       "      <td>13</td>\n",
       "    </tr>\n",
       "    <tr>\n",
       "      <th>4</th>\n",
       "      <td>23203149</td>\n",
       "      <td>Big beautiful bedroom in huge Bushwick apartment</td>\n",
       "      <td>143460</td>\n",
       "      <td>Megan</td>\n",
       "      <td>Brooklyn</td>\n",
       "      <td>Bushwick</td>\n",
       "      <td>40.69839</td>\n",
       "      <td>-73.92044</td>\n",
       "      <td>Private room</td>\n",
       "      <td>65</td>\n",
       "      <td>2</td>\n",
       "      <td>8</td>\n",
       "      <td>2019-06-23</td>\n",
       "      <td>0.52</td>\n",
       "      <td>2</td>\n",
       "      <td>8</td>\n",
       "    </tr>\n",
       "  </tbody>\n",
       "</table>\n",
       "</div>"
      ],
      "text/plain": [
       "         id                                               name    host_id  \\\n",
       "0   9138664                Private Lg Room 15 min to Manhattan   47594947   \n",
       "1  31444015  TIME SQUARE CHARMING ONE BED IN HELL'S KITCHEN...    8523790   \n",
       "2   8741020  Voted #1 Location Quintessential 1BR W Village...   45854238   \n",
       "3  34602077  Spacious 1 bedroom apartment 15min from Manhattan  261055465   \n",
       "4  23203149   Big beautiful bedroom in huge Bushwick apartment     143460   \n",
       "\n",
       "  host_name neighbourhood_group   neighbourhood  latitude  longitude  \\\n",
       "0      Iris              Queens       Sunnyside  40.74271  -73.92493   \n",
       "1    Johlex           Manhattan  Hell's Kitchen  40.76682  -73.98878   \n",
       "2      John           Manhattan    West Village  40.73631  -74.00611   \n",
       "3     Regan              Queens         Astoria  40.76424  -73.92351   \n",
       "4     Megan            Brooklyn        Bushwick  40.69839  -73.92044   \n",
       "\n",
       "         room_type  price  minimum_nights  number_of_reviews last_review  \\\n",
       "0     Private room     74               2                  6  2019-05-26   \n",
       "1  Entire home/apt    170               3                  0         NaN   \n",
       "2  Entire home/apt    245               3                 51  2018-09-19   \n",
       "3  Entire home/apt    125               3                  1  2019-05-24   \n",
       "4     Private room     65               2                  8  2019-06-23   \n",
       "\n",
       "   reviews_per_month  calculated_host_listings_count  availability_365  \n",
       "0               0.13                               1                 5  \n",
       "1                NaN                               1               188  \n",
       "2               1.12                               1                 0  \n",
       "3               0.65                               1                13  \n",
       "4               0.52                               2                 8  "
      ]
     },
     "execution_count": 6,
     "metadata": {},
     "output_type": "execute_result"
    }
   ],
   "source": [
    "df.head()"
   ]
  },
  {
   "cell_type": "code",
   "execution_count": 8,
   "id": "0823f779-ffb8-4709-8aee-8a37d8251914",
   "metadata": {},
   "outputs": [],
   "source": [
    "min_price=10\n",
    "max_price=350\n",
    "idx = df['price'].between(min_price, max_price)\n",
    "df = df[idx].copy()\n",
    "df['last_review'] = pd.to_datetime(df['last_review'])"
   ]
  },
  {
   "cell_type": "code",
   "execution_count": 9,
   "id": "21b2fb5f-1d3d-48c8-af69-413e0c25ee91",
   "metadata": {},
   "outputs": [
    {
     "name": "stdout",
     "output_type": "stream",
     "text": [
      "<class 'pandas.core.frame.DataFrame'>\n",
      "Int64Index: 19001 entries, 0 to 19999\n",
      "Data columns (total 16 columns):\n",
      " #   Column                          Non-Null Count  Dtype         \n",
      "---  ------                          --------------  -----         \n",
      " 0   id                              19001 non-null  int64         \n",
      " 1   name                            18994 non-null  object        \n",
      " 2   host_id                         19001 non-null  int64         \n",
      " 3   host_name                       18993 non-null  object        \n",
      " 4   neighbourhood_group             19001 non-null  object        \n",
      " 5   neighbourhood                   19001 non-null  object        \n",
      " 6   latitude                        19001 non-null  float64       \n",
      " 7   longitude                       19001 non-null  float64       \n",
      " 8   room_type                       19001 non-null  object        \n",
      " 9   price                           19001 non-null  int64         \n",
      " 10  minimum_nights                  19001 non-null  int64         \n",
      " 11  number_of_reviews               19001 non-null  int64         \n",
      " 12  last_review                     15243 non-null  datetime64[ns]\n",
      " 13  reviews_per_month               15243 non-null  float64       \n",
      " 14  calculated_host_listings_count  19001 non-null  int64         \n",
      " 15  availability_365                19001 non-null  int64         \n",
      "dtypes: datetime64[ns](1), float64(3), int64(7), object(5)\n",
      "memory usage: 2.5+ MB\n"
     ]
    }
   ],
   "source": [
    "df.info()"
   ]
  },
  {
   "cell_type": "code",
   "execution_count": 10,
   "id": "8d9d3827-791e-48c1-a783-58c137e20306",
   "metadata": {},
   "outputs": [
    {
     "data": {
      "application/vnd.jupyter.widget-view+json": {
       "model_id": "",
       "version_major": 2,
       "version_minor": 0
      },
      "text/plain": [
       "VBox(children=(Label(value='0.098 MB of 0.098 MB uploaded\\r'), FloatProgress(value=1.0, max=1.0)))"
      ]
     },
     "metadata": {},
     "output_type": "display_data"
    },
    {
     "data": {
      "text/html": [
       " View run <strong style=\"color:#cdcd00\">legendary-valley-2</strong> at: <a href='https://wandb.ai/lu-jiang201845/nyc_airbnb/runs/mvyfw5s7' target=\"_blank\">https://wandb.ai/lu-jiang201845/nyc_airbnb/runs/mvyfw5s7</a><br/> View job at <a href='https://wandb.ai/lu-jiang201845/nyc_airbnb/jobs/QXJ0aWZhY3RDb2xsZWN0aW9uOjEyMDAwODAwNg==/version_details/v0' target=\"_blank\">https://wandb.ai/lu-jiang201845/nyc_airbnb/jobs/QXJ0aWZhY3RDb2xsZWN0aW9uOjEyMDAwODAwNg==/version_details/v0</a><br/>Synced 5 W&B file(s), 0 media file(s), 8 artifact file(s) and 1 other file(s)"
      ],
      "text/plain": [
       "<IPython.core.display.HTML object>"
      ]
     },
     "metadata": {},
     "output_type": "display_data"
    },
    {
     "data": {
      "text/html": [
       "Find logs at: <code>.\\wandb\\run-20231130_141232-mvyfw5s7\\logs</code>"
      ],
      "text/plain": [
       "<IPython.core.display.HTML object>"
      ]
     },
     "metadata": {},
     "output_type": "display_data"
    }
   ],
   "source": [
    "run.finish()"
   ]
  },
  {
   "cell_type": "code",
   "execution_count": null,
   "id": "c005aac2-9d2d-45fa-87fe-7458e478dadc",
   "metadata": {},
   "outputs": [],
   "source": []
  }
 ],
 "metadata": {
  "kernelspec": {
   "display_name": "Python 3 (ipykernel)",
   "language": "python",
   "name": "python3"
  },
  "language_info": {
   "codemirror_mode": {
    "name": "ipython",
    "version": 3
   },
   "file_extension": ".py",
   "mimetype": "text/x-python",
   "name": "python",
   "nbconvert_exporter": "python",
   "pygments_lexer": "ipython3",
   "version": "3.9.2"
  }
 },
 "nbformat": 4,
 "nbformat_minor": 5
}
